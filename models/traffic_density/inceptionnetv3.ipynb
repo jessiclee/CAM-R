{
 "cells": [
  {
   "cell_type": "code",
   "execution_count": null,
   "id": "8bbd6ebf-b48f-4c9d-b6a7-1ccc9751e7d5",
   "metadata": {},
   "outputs": [],
   "source": [
    "import torch\n",
    "import torch.nn as nn\n",
    "from torchvision.models import inception_v3, Inception_V3_Weights\n",
    "import td_load_data_inception\n",
    "import td_run_model2"
   ]
  },
  {
   "cell_type": "code",
   "execution_count": 8,
   "id": "86226e7b-e1b6-411c-ada4-a758655ef0c4",
   "metadata": {},
   "outputs": [],
   "source": [
    "device = torch.device('cuda' if torch.cuda.is_available() else 'cpu')"
   ]
  },
  {
   "cell_type": "code",
   "execution_count": 3,
   "id": "6573854d-3109-4ac4-aedd-3cb31d4dd1f8",
   "metadata": {},
   "outputs": [],
   "source": [
    "num_classes = 3  # Adjust this to match the number of classes (e.g., high, medium, low)\n",
    "num_epochs = 20\n",
    "batch_size = 16\n",
    "learning_rate = 0.005"
   ]
  },
  {
   "cell_type": "code",
   "execution_count": 4,
   "id": "60a383c1",
   "metadata": {},
   "outputs": [],
   "source": [
    "class InceptionV3MultiClassClassifier(nn.Module):\n",
    "    def __init__(self, num_classes):\n",
    "        super(InceptionV3MultiClassClassifier, self).__init__()\n",
    "        self.base_model = inception_v3(weights=Inception_V3_Weights.IMAGENET1K_V1)\n",
    "\n",
    "        # Do not modify the original fully connected (fc) layer\n",
    "        self.base_model.aux_logits = False  \n",
    "\n",
    "        self.new_fc = nn.Sequential(\n",
    "            nn.AdaptiveAvgPool2d(1), \n",
    "            nn.Flatten(), \n",
    "            nn.Linear(self.base_model.fc.out_features, num_classes),\n",
    "            # nn.Softmax(dim=1)\n",
    "        )\n",
    "\n",
    "    def forward(self, x):\n",
    "        x = self.base_model(x) \n",
    "        return x"
   ]
  },
  {
   "cell_type": "code",
   "execution_count": 7,
   "id": "513a0a9a-cf30-4a25-baf9-fd6bf5f58f2b",
   "metadata": {},
   "outputs": [
    {
     "name": "stdout",
     "output_type": "stream",
     "text": [
      "Epoch [1/20], Loss: 1.7725\n",
      "Validation Accuracy: 81.88% Macro-averaged Precision: 0.8091, Macro-averaged Recall: 0.8054\n",
      "ROC AUC scores for each class: {'Class 0': 0.958, 'Class 1': 0.9648, 'Class 2': 0.8923}\n",
      "Epoch [2/20], Loss: 0.5030\n",
      "Validation Accuracy: 84.70% Macro-averaged Precision: 0.8380, Macro-averaged Recall: 0.8345\n",
      "ROC AUC scores for each class: {'Class 0': 0.9727, 'Class 1': 0.977, 'Class 2': 0.9261}\n",
      "Epoch [3/20], Loss: 0.4152\n",
      "Validation Accuracy: 86.63% Macro-averaged Precision: 0.8616, Macro-averaged Recall: 0.8553\n",
      "ROC AUC scores for each class: {'Class 0': 0.9803, 'Class 1': 0.9783, 'Class 2': 0.9341}\n",
      "Epoch [4/20], Loss: 0.3330\n",
      "Validation Accuracy: 87.76% Macro-averaged Precision: 0.8706, Macro-averaged Recall: 0.8678\n",
      "ROC AUC scores for each class: {'Class 0': 0.9834, 'Class 1': 0.982, 'Class 2': 0.9402}\n",
      "Epoch [5/20], Loss: 0.2954\n",
      "Validation Accuracy: 88.33% Macro-averaged Precision: 0.8790, Macro-averaged Recall: 0.8727\n",
      "ROC AUC scores for each class: {'Class 0': 0.9851, 'Class 1': 0.9819, 'Class 2': 0.9421}\n",
      "Epoch [6/20], Loss: 0.2480\n",
      "Validation Accuracy: 89.37% Macro-averaged Precision: 0.8880, Macro-averaged Recall: 0.8842\n",
      "ROC AUC scores for each class: {'Class 0': 0.9849, 'Class 1': 0.9833, 'Class 2': 0.9443}\n",
      "Epoch [7/20], Loss: 0.2286\n",
      "Validation Accuracy: 88.33% Macro-averaged Precision: 0.8786, Macro-averaged Recall: 0.8705\n",
      "ROC AUC scores for each class: {'Class 0': 0.986, 'Class 1': 0.9838, 'Class 2': 0.9444}\n",
      "Epoch [8/20], Loss: 0.1864\n",
      "Validation Accuracy: 89.69% Macro-averaged Precision: 0.8916, Macro-averaged Recall: 0.8878\n",
      "ROC AUC scores for each class: {'Class 0': 0.9841, 'Class 1': 0.9854, 'Class 2': 0.9475}\n",
      "Epoch [9/20], Loss: 0.1714\n",
      "Validation Accuracy: 89.21% Macro-averaged Precision: 0.8874, Macro-averaged Recall: 0.8848\n",
      "ROC AUC scores for each class: {'Class 0': 0.9822, 'Class 1': 0.9841, 'Class 2': 0.945}\n",
      "Epoch [10/20], Loss: 0.1454\n",
      "Validation Accuracy: 88.73% Macro-averaged Precision: 0.8820, Macro-averaged Recall: 0.8773\n",
      "ROC AUC scores for each class: {'Class 0': 0.9857, 'Class 1': 0.9847, 'Class 2': 0.9456}\n",
      "Epoch [11/20], Loss: 0.1313\n",
      "Validation Accuracy: 89.37% Macro-averaged Precision: 0.8881, Macro-averaged Recall: 0.8859\n",
      "ROC AUC scores for each class: {'Class 0': 0.9822, 'Class 1': 0.9852, 'Class 2': 0.9447}\n",
      "Epoch [12/20], Loss: 0.1137\n",
      "Validation Accuracy: 88.57% Macro-averaged Precision: 0.8794, Macro-averaged Recall: 0.8761\n",
      "ROC AUC scores for each class: {'Class 0': 0.9819, 'Class 1': 0.9859, 'Class 2': 0.9455}\n",
      "Epoch [13/20], Loss: 0.1019\n",
      "Validation Accuracy: 88.81% Macro-averaged Precision: 0.8846, Macro-averaged Recall: 0.8752\n",
      "ROC AUC scores for each class: {'Class 0': 0.984, 'Class 1': 0.9828, 'Class 2': 0.9404}\n",
      "Epoch [14/20], Loss: 0.0919\n",
      "Validation Accuracy: 88.97% Macro-averaged Precision: 0.8823, Macro-averaged Recall: 0.8822\n",
      "ROC AUC scores for each class: {'Class 0': 0.9832, 'Class 1': 0.9848, 'Class 2': 0.9442}\n",
      "Epoch [15/20], Loss: 0.0806\n",
      "Validation Accuracy: 89.05% Macro-averaged Precision: 0.8846, Macro-averaged Recall: 0.8802\n",
      "ROC AUC scores for each class: {'Class 0': 0.9819, 'Class 1': 0.985, 'Class 2': 0.9443}\n",
      "Epoch [16/20], Loss: 0.0774\n",
      "Validation Accuracy: 89.29% Macro-averaged Precision: 0.8901, Macro-averaged Recall: 0.8798\n",
      "ROC AUC scores for each class: {'Class 0': 0.982, 'Class 1': 0.9842, 'Class 2': 0.9412}\n",
      "Epoch [17/20], Loss: 0.0775\n",
      "Validation Accuracy: 89.13% Macro-averaged Precision: 0.8870, Macro-averaged Recall: 0.8782\n",
      "ROC AUC scores for each class: {'Class 0': 0.9825, 'Class 1': 0.985, 'Class 2': 0.9423}\n",
      "Epoch [18/20], Loss: 0.0686\n",
      "Validation Accuracy: 89.21% Macro-averaged Precision: 0.8877, Macro-averaged Recall: 0.8802\n",
      "ROC AUC scores for each class: {'Class 0': 0.9807, 'Class 1': 0.985, 'Class 2': 0.942}\n",
      "Epoch [19/20], Loss: 0.0689\n",
      "Validation Accuracy: 89.13% Macro-averaged Precision: 0.8848, Macro-averaged Recall: 0.8805\n",
      "ROC AUC scores for each class: {'Class 0': 0.9809, 'Class 1': 0.9848, 'Class 2': 0.9419}\n",
      "Epoch [20/20], Loss: 0.0631\n",
      "Validation Accuracy: 89.13% Macro-averaged Precision: 0.8864, Macro-averaged Recall: 0.8804\n",
      "ROC AUC scores for each class: {'Class 0': 0.9806, 'Class 1': 0.9844, 'Class 2': 0.9403}\n",
      "Test Accuracy: 88.29% Macro-averaged Precision: 0.8774, Macro-averaged Recall: 0.8720\n",
      "ROC AUC scores for each class: {'Class 0': 0.9758, 'Class 1': 0.9855, 'Class 2': 0.9349}\n"
     ]
    }
   ],
   "source": [
    "\n",
    "if __name__ == \"__main__\":\n",
    "    # Model initialization\n",
    "    model = InceptionV3MultiClassClassifier(num_classes=num_classes).to(device)\n",
    "    \n",
    "    # Loss and optimizer\n",
    "    criterion = nn.CrossEntropyLoss()\n",
    "    optimizer = torch.optim.SGD(model.parameters(), lr=learning_rate)\n",
    "    \n",
    "\n",
    "    # Load data\n",
    "    train_loader, validation_loader, test_loader, classes = td_load_data_inception.create_data(batch_size=batch_size)\n",
    "    \n",
    "    # Train and validate the model\n",
    "    td_run_model2.train(num_epochs, device, model, criterion, optimizer, train_loader, validation_loader, num_classes)\n",
    "   \n",
    "    # Test the model\n",
    "    td_run_model2.test(device, model, test_loader, num_classes)"
   ]
  },
  {
   "cell_type": "code",
   "execution_count": null,
   "id": "c936c49a-0257-4b41-8d39-246e164784a5",
   "metadata": {},
   "outputs": [],
   "source": [
    "# Define the model architecture with the same number of classes used during training\n",
    "model = InceptionV3MultiClassClassifier(num_classes=num_classes).to(device)\n",
    "\n",
    "# Load the state dict\n",
    "# state_dict = torch.load('weights/31.pth')\n",
    "state_dict = torch.load('weights/31.pth', map_location=torch.device('cpu'))     # Running locally\n",
    "\n",
    "# Load the state dict into the model\n",
    "model.load_state_dict(state_dict)\n",
    "\n",
    "model.eval()  # Set the model to evaluation mode\n",
    "\n",
    "# Load the test data using the function in td_load_data.py\n",
    "_, _, test_loader, classes = td_load_data_inception.create_data(batch_size=batch_size)\n",
    "\n",
    "# Evaluate the model on the test set\n",
    "td_run_model2.test_model_on_test_data(device, model, test_loader)"
   ]
  },
  {
   "cell_type": "code",
   "execution_count": null,
   "id": "d6e95ce3-627f-4b77-b855-296904e68318",
   "metadata": {},
   "outputs": [],
   "source": []
  }
 ],
 "metadata": {
  "kernelspec": {
   "display_name": "Python 3 (ipykernel)",
   "language": "python",
   "name": "python3"
  },
  "language_info": {
   "codemirror_mode": {
    "name": "ipython",
    "version": 3
   },
   "file_extension": ".py",
   "mimetype": "text/x-python",
   "name": "python",
   "nbconvert_exporter": "python",
   "pygments_lexer": "ipython3",
   "version": "3.11.9"
  }
 },
 "nbformat": 4,
 "nbformat_minor": 5
}
