{
 "cells": [
  {
   "cell_type": "code",
   "execution_count": 7,
   "id": "8bbd6ebf-b48f-4c9d-b6a7-1ccc9751e7d5",
   "metadata": {},
   "outputs": [],
   "source": [
    "import torch\n",
    "import torch.nn as nn\n",
    "from torchvision.models import resnet50, ResNet50_Weights\n",
    "import td_load_data \n",
    "import td_run_model2"
   ]
  },
  {
   "cell_type": "code",
   "execution_count": 8,
   "id": "86226e7b-e1b6-411c-ada4-a758655ef0c4",
   "metadata": {},
   "outputs": [],
   "source": [
    "device = torch.device('cuda' if torch.cuda.is_available() else 'cpu')"
   ]
  },
  {
   "cell_type": "code",
   "execution_count": 6,
   "id": "6573854d-3109-4ac4-aedd-3cb31d4dd1f8",
   "metadata": {},
   "outputs": [],
   "source": [
    "num_classes = 3  # Adjust this to match the number of classes (e.g., high, medium, low)\n",
    "num_epochs = 20\n",
    "batch_size = 16\n",
    "learning_rate = 0.05"
   ]
  },
  {
   "cell_type": "code",
   "execution_count": null,
   "id": "2f5d999d",
   "metadata": {},
   "outputs": [],
   "source": [
    "class Resnet50MultiClassClassifier(nn.Module):\n",
    "    def __init__(self, num_classes):\n",
    "        super(Resnet50MultiClassClassifier, self).__init__()\n",
    "        self.base_model = resnet50(weights=ResNet50_Weights.IMAGENET1K_V1)\n",
    "        \n",
    "        in_features = self.base_model.fc.in_features\n",
    "        self.base_model.fc = nn.Sequential(\n",
    "            nn.Linear(in_features, num_classes),\n",
    "            nn.Softmax(dim=1)\n",
    "        )\n",
    "    \n",
    "    \n",
    "    def forward(self, x):\n",
    "        x = self.base_model(x)\n",
    "        return x"
   ]
  },
  {
   "cell_type": "code",
   "execution_count": 9,
   "id": "513a0a9a-cf30-4a25-baf9-fd6bf5f58f2b",
   "metadata": {},
   "outputs": [
    {
     "name": "stdout",
     "output_type": "stream",
     "text": [
      "Epoch [1/20], Loss: 0.8744\n",
      "Validation Accuracy: 83.41% Macro-averaged Precision: 0.8313, Macro-averaged Recall: 0.8154\n",
      "ROC AUC scores for each class: {'Class 0': 0.9676, 'Class 1': 0.9715, 'Class 2': 0.9039}\n",
      "Epoch [2/20], Loss: 0.7297\n",
      "Validation Accuracy: 86.63% Macro-averaged Precision: 0.8625, Macro-averaged Recall: 0.8539\n",
      "ROC AUC scores for each class: {'Class 0': 0.9762, 'Class 1': 0.9818, 'Class 2': 0.937}\n",
      "Epoch [3/20], Loss: 0.6877\n",
      "Validation Accuracy: 88.00% Macro-averaged Precision: 0.8764, Macro-averaged Recall: 0.8673\n",
      "ROC AUC scores for each class: {'Class 0': 0.9808, 'Class 1': 0.9846, 'Class 2': 0.9473}\n",
      "Epoch [4/20], Loss: 0.6618\n",
      "Validation Accuracy: 89.45% Macro-averaged Precision: 0.8891, Macro-averaged Recall: 0.8861\n",
      "ROC AUC scores for each class: {'Class 0': 0.9831, 'Class 1': 0.9861, 'Class 2': 0.9544}\n",
      "Epoch [5/20], Loss: 0.6440\n",
      "Validation Accuracy: 89.69% Macro-averaged Precision: 0.8931, Macro-averaged Recall: 0.8860\n",
      "ROC AUC scores for each class: {'Class 0': 0.984, 'Class 1': 0.9869, 'Class 2': 0.9537}\n",
      "Epoch [6/20], Loss: 0.6315\n",
      "Validation Accuracy: 88.89% Macro-averaged Precision: 0.8852, Macro-averaged Recall: 0.8778\n",
      "ROC AUC scores for each class: {'Class 0': 0.9805, 'Class 1': 0.984, 'Class 2': 0.9464}\n",
      "Epoch [7/20], Loss: 0.6132\n",
      "Validation Accuracy: 89.86% Macro-averaged Precision: 0.8952, Macro-averaged Recall: 0.8886\n",
      "ROC AUC scores for each class: {'Class 0': 0.9722, 'Class 1': 0.9861, 'Class 2': 0.9487}\n",
      "Epoch [8/20], Loss: 0.6053\n",
      "Validation Accuracy: 88.89% Macro-averaged Precision: 0.8851, Macro-averaged Recall: 0.8792\n",
      "ROC AUC scores for each class: {'Class 0': 0.9767, 'Class 1': 0.9839, 'Class 2': 0.9454}\n",
      "Epoch [9/20], Loss: 0.5962\n",
      "Validation Accuracy: 88.89% Macro-averaged Precision: 0.8864, Macro-averaged Recall: 0.8777\n",
      "ROC AUC scores for each class: {'Class 0': 0.9741, 'Class 1': 0.9863, 'Class 2': 0.946}\n",
      "Epoch [10/20], Loss: 0.5911\n",
      "Validation Accuracy: 89.21% Macro-averaged Precision: 0.8878, Macro-averaged Recall: 0.8815\n",
      "ROC AUC scores for each class: {'Class 0': 0.9667, 'Class 1': 0.9856, 'Class 2': 0.9473}\n",
      "Epoch [11/20], Loss: 0.5850\n",
      "Validation Accuracy: 89.86% Macro-averaged Precision: 0.8933, Macro-averaged Recall: 0.8925\n",
      "ROC AUC scores for each class: {'Class 0': 0.9738, 'Class 1': 0.9831, 'Class 2': 0.9447}\n",
      "Epoch [12/20], Loss: 0.5816\n",
      "Validation Accuracy: 88.73% Macro-averaged Precision: 0.8829, Macro-averaged Recall: 0.8760\n",
      "ROC AUC scores for each class: {'Class 0': 0.9704, 'Class 1': 0.9836, 'Class 2': 0.9394}\n",
      "Epoch [13/20], Loss: 0.5806\n",
      "Validation Accuracy: 89.05% Macro-averaged Precision: 0.8889, Macro-averaged Recall: 0.8775\n",
      "ROC AUC scores for each class: {'Class 0': 0.9724, 'Class 1': 0.984, 'Class 2': 0.9394}\n",
      "Epoch [14/20], Loss: 0.5781\n",
      "Validation Accuracy: 89.29% Macro-averaged Precision: 0.8879, Macro-averaged Recall: 0.8815\n",
      "ROC AUC scores for each class: {'Class 0': 0.9771, 'Class 1': 0.9845, 'Class 2': 0.9446}\n",
      "Epoch [15/20], Loss: 0.5761\n",
      "Validation Accuracy: 89.86% Macro-averaged Precision: 0.8934, Macro-averaged Recall: 0.8907\n",
      "ROC AUC scores for each class: {'Class 0': 0.9767, 'Class 1': 0.9832, 'Class 2': 0.9458}\n",
      "Epoch [16/20], Loss: 0.5723\n",
      "Validation Accuracy: 89.77% Macro-averaged Precision: 0.8930, Macro-averaged Recall: 0.8893\n",
      "ROC AUC scores for each class: {'Class 0': 0.9718, 'Class 1': 0.9836, 'Class 2': 0.942}\n",
      "Epoch [17/20], Loss: 0.5739\n",
      "Validation Accuracy: 89.13% Macro-averaged Precision: 0.8879, Macro-averaged Recall: 0.8795\n",
      "ROC AUC scores for each class: {'Class 0': 0.9732, 'Class 1': 0.9831, 'Class 2': 0.9379}\n",
      "Epoch [18/20], Loss: 0.5708\n",
      "Validation Accuracy: 89.53% Macro-averaged Precision: 0.8888, Macro-averaged Recall: 0.8877\n",
      "ROC AUC scores for each class: {'Class 0': 0.9723, 'Class 1': 0.9816, 'Class 2': 0.9418}\n",
      "Epoch [19/20], Loss: 0.5706\n",
      "Validation Accuracy: 88.97% Macro-averaged Precision: 0.8846, Macro-averaged Recall: 0.8795\n",
      "ROC AUC scores for each class: {'Class 0': 0.9654, 'Class 1': 0.9836, 'Class 2': 0.9369}\n",
      "Epoch [20/20], Loss: 0.5694\n",
      "Validation Accuracy: 89.21% Macro-averaged Precision: 0.8868, Macro-averaged Recall: 0.8834\n",
      "ROC AUC scores for each class: {'Class 0': 0.9657, 'Class 1': 0.983, 'Class 2': 0.9405}\n",
      "Test Accuracy: 87.09% Macro-averaged Precision: 0.8616, Macro-averaged Recall: 0.8611\n",
      "ROC AUC scores for each class: {'Class 0': 0.9583, 'Class 1': 0.9804, 'Class 2': 0.9299}\n"
     ]
    }
   ],
   "source": [
    "\n",
    "if __name__ == \"__main__\":\n",
    "    # Model initialization\n",
    "    model = Resnet50MultiClassClassifier(num_classes=num_classes).to(device)\n",
    "    \n",
    "    # Loss and optimizer\n",
    "    criterion = nn.CrossEntropyLoss()  # CrossEntropyLoss for multi-class classification\n",
    "    optimizer = torch.optim.SGD(model.parameters(), lr=learning_rate)\n",
    "    \n",
    "\n",
    "    # Load data\n",
    "    train_loader, validation_loader, test_loader, classes = td_load_data.create_data(batch_size=batch_size)\n",
    "    \n",
    "    # Train and validate the model\n",
    "    td_run_model2.train(num_epochs, device, model, criterion, optimizer, train_loader, validation_loader, num_classes)\n",
    "    \n",
    "    # Test the model\n",
    "    td_run_model2.test(device, model, test_loader, num_classes)"
   ]
  },
  {
   "cell_type": "code",
   "execution_count": 10,
   "id": "c936c49a-0257-4b41-8d39-246e164784a5",
   "metadata": {},
   "outputs": [
    {
     "name": "stdout",
     "output_type": "stream",
     "text": [
      "Test Accuracy: 87.97%\n",
      "\n",
      "Class: high | Accuracy: 91.08% | Precision: 0.9060 | Recall: 0.9108 | ROC AUC: 0.9714\n",
      "Class: low | Accuracy: 93.82% | Precision: 0.9033 | Recall: 0.9382 | ROC AUC: 0.9851\n",
      "Class: medium | Accuracy: 75.86% | Precision: 0.8098 | Recall: 0.7586 | ROC AUC: 0.9429\n",
      "\n",
      "Macro-averaged Precision: 0.8731, Macro-averaged Recall: 0.8692\n"
     ]
    }
   ],
   "source": [
    "# Define the model architecture with the same number of classes used during training\n",
    "model = Resnet50MultiClassClassifier(num_classes=num_classes).to(device)\n",
    "\n",
    "# Load the state dict\n",
    "# state_dict = torch.load('weights/38.pth')\n",
    "state_dict = torch.load('weights/38.pth', map_location=torch.device('cpu'))     # Running locally\n",
    "\n",
    "# Load the state dict into the model\n",
    "model.load_state_dict(state_dict)\n",
    "\n",
    "model.eval()  # Set the model to evaluation mode\n",
    "\n",
    "# Load the test data using the function in td_load_data.py\n",
    "_, _, test_loader, classes = td_load_data.create_data(batch_size=batch_size)\n",
    "\n",
    "# Evaluate the model on the test set\n",
    "td_run_model2.test_model_on_test_data(device, model, test_loader)"
   ]
  },
  {
   "cell_type": "code",
   "execution_count": null,
   "id": "d6e95ce3-627f-4b77-b855-296904e68318",
   "metadata": {},
   "outputs": [],
   "source": []
  }
 ],
 "metadata": {
  "kernelspec": {
   "display_name": "Python 3 (ipykernel)",
   "language": "python",
   "name": "python3"
  },
  "language_info": {
   "codemirror_mode": {
    "name": "ipython",
    "version": 3
   },
   "file_extension": ".py",
   "mimetype": "text/x-python",
   "name": "python",
   "nbconvert_exporter": "python",
   "pygments_lexer": "ipython3",
   "version": "3.11.4"
  }
 },
 "nbformat": 4,
 "nbformat_minor": 5
}
