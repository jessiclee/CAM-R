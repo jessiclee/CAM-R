{
 "cells": [
  {
   "cell_type": "code",
   "execution_count": 1,
   "id": "063f7c1a-db78-4f72-9e47-1f0d11c61a2e",
   "metadata": {},
   "outputs": [
    {
     "name": "stderr",
     "output_type": "stream",
     "text": [
      "C:\\Users\\Jess\\AppData\\Local\\Packages\\PythonSoftwareFoundation.Python.3.11_qbz5n2kfra8p0\\LocalCache\\local-packages\\Python311\\site-packages\\tqdm\\auto.py:21: TqdmWarning: IProgress not found. Please update jupyter and ipywidgets. See https://ipywidgets.readthedocs.io/en/stable/user_install.html\n",
      "  from .autonotebook import tqdm as notebook_tqdm\n"
     ]
    }
   ],
   "source": [
    "import torch\n",
    "import torch.nn as nn\n",
    "from torchvision.models import vgg16, VGG16_Weights\n",
    "import td_load_data\n",
    "import td_run_model2"
   ]
  },
  {
   "cell_type": "code",
   "execution_count": 2,
   "id": "75a47281-bab2-4a5d-b712-be12eaf461de",
   "metadata": {},
   "outputs": [],
   "source": [
    "device = torch.device('cuda' if torch.cuda.is_available() else 'cpu')"
   ]
  },
  {
   "cell_type": "code",
   "execution_count": 3,
   "id": "233f32cf",
   "metadata": {},
   "outputs": [],
   "source": [
    "num_classes = 3  # Adjust this to match the number of classes (e.g., high, medium, low)\n",
    "num_epochs = 23\n",
    "batch_size = 16\n",
    "learning_rate = 0.005"
   ]
  },
  {
   "cell_type": "code",
   "execution_count": 4,
   "id": "586cd6f1",
   "metadata": {},
   "outputs": [],
   "source": [
    "class VGG16MultiClassClassifier(nn.Module):\n",
    "    def __init__(self, num_classes):\n",
    "        super(VGG16MultiClassClassifier, self).__init__()\n",
    "        self.base_model = vgg16(weights=VGG16_Weights.IMAGENET1K_V1)\n",
    "        \n",
    "        in_features = self.base_model.classifier[6].in_features\n",
    "        \n",
    "        self.base_model.classifier[6] = nn.Sequential(\n",
    "            nn.Linear(in_features, num_classes)\n",
    "        )\n",
    "\n",
    "    def forward(self, x):\n",
    "        x = self.base_model(x)\n",
    "        return x"
   ]
  },
  {
   "cell_type": "code",
   "execution_count": 5,
   "id": "ea11b622-cd7c-4f06-abdb-c65898103ffe",
   "metadata": {},
   "outputs": [
    {
     "name": "stdout",
     "output_type": "stream",
     "text": [
      "Filename: 1711_19-06-2024_08-05-01.jpg, True class: high, Predicted class: high\n",
      "Filename: 2701_22-05-2024_11-45-02.jpg, True class: high, Predicted class: high\n",
      "Filename: 2702_04-08-2024_06-15-01.jpg, True class: high, Predicted class: high\n",
      "Filename: 3704_05-08-2024_19-15-02.jpg, True class: high, Predicted class: high\n",
      "Filename: 4701_20-06-2024_18-25-01.jpg, True class: high, Predicted class: high\n",
      "Filename: 4703_18-06-2024_19-55-01.jpg, True class: high, Predicted class: high\n",
      "Filename: 4708_23-05-2024_09-55-01.jpg, True class: high, Predicted class: high\n",
      "Filename: 6703_06-08-2024_19-20-02.jpg, True class: high, Predicted class: high\n",
      "Filename: 7793_20-06-2024_08-35-02.jpg, True class: high, Predicted class: high\n",
      "Filename: 9702_08-08-2024_09-20-02.jpg, True class: high, Predicted class: high\n",
      "Filename: 1006_15-07-2024_20-50-02.jpg, True class: low, Predicted class: low\n",
      "Filename: 1705_14-07-2024_02-30-01.jpg, True class: low, Predicted class: low\n",
      "Filename: 1709_06-06-2024_05-00-02.jpg, True class: low, Predicted class: low\n",
      "Filename: 2704_24-07-2024_13-05-01.jpg, True class: low, Predicted class: low\n",
      "Filename: 3793_23-06-2024_11-20-01.jpg, True class: low, Predicted class: low\n",
      "Filename: 4712_24-07-2024_06-55-01.jpg, True class: low, Predicted class: low\n",
      "Filename: 4713_01-06-2024_00-40-01.jpg, True class: low, Predicted class: low\n",
      "Filename: 6705_10-06-2024_02-10-02.jpg, True class: low, Predicted class: low\n",
      "Filename: 8702_19-07-2024_17-30-02.jpg, True class: low, Predicted class: low\n",
      "Filename: 9703_07-07-2024_01-45-02.jpg, True class: low, Predicted class: low\n",
      "Filename: 1005_01-06-2024_17-15-02.jpg, True class: medium, Predicted class: low\n",
      "Filename: 1503_15-07-2024_18-00-01.jpg, True class: medium, Predicted class: medium\n",
      "Filename: 1702_01-06-2024_08-55-01.jpg, True class: medium, Predicted class: low\n",
      "Filename: 2703_20-06-2024_08-35-02.jpg, True class: medium, Predicted class: low\n",
      "Filename: 3795_12-06-2024_15-35-02.jpg, True class: medium, Predicted class: medium\n",
      "Filename: 4705_25-07-2024_16-25-02.jpg, True class: medium, Predicted class: low\n",
      "Filename: 5799_16-07-2024_06-55-01.jpg, True class: medium, Predicted class: medium\n",
      "Filename: 7791_09-07-2024_07-20-02.jpg, True class: medium, Predicted class: low\n",
      "Filename: 8704_19-06-2024_08-20-02.jpg, True class: medium, Predicted class: low\n",
      "Filename: 9701_21-07-2024_13-55-01.jpg, True class: medium, Predicted class: low\n",
      "Test Accuracy: 76.67%\n",
      "\n",
      "Class: high | Accuracy: 100.00% | Precision: 1.0000 | Recall: 1.0000 | ROC AUC: 1.0000\n",
      "Class: low | Accuracy: 100.00% | Precision: 0.5882 | Recall: 1.0000 | ROC AUC: 1.0000\n",
      "Class: medium | Accuracy: 30.00% | Precision: 1.0000 | Recall: 0.3000 | ROC AUC: 0.9450\n",
      "\n",
      "Macro-averaged Precision: 0.8627, Macro-averaged Recall: 0.7667\n",
      "Macro-averaged F1 Score: 0.7341\n",
      "Weighted F1 Score: 0.7341\n"
     ]
    }
   ],
   "source": [
    "# Define the model architecture with the same number of classes used during training\n",
    "model = VGG16MultiClassClassifier(num_classes=num_classes).to(device)\n",
    "\n",
    "# Load the state dict\n",
    "# state_dict = torch.load('weights/43.pth')\n",
    "# state_dict = torch.load('weights/42.pth')\n",
    "state_dict = torch.load('../weights/43.pth', map_location=torch.device('cpu'))     # Running locally\n",
    "\n",
    "# Load the state dict into the model\n",
    "model.load_state_dict(state_dict)\n",
    "\n",
    "model.eval()  # Set the model to evaluation mode\n",
    "\n",
    "# Load the test data using the function in td_load_data.py\n",
    "# _, _, test_loader, classes = td_load_data.create_data(batch_size=batch_size)\n",
    "test_loader, classes = td_load_data.create_data(batch_size=batch_size)\n",
    "\n",
    "\n",
    "# Evaluate the model on the test set\n",
    "td_run_model2.test_model_on_test_data(device, model, test_loader)"
   ]
  },
  {
   "cell_type": "markdown",
   "id": "91e5e85d-9005-4631-8c6d-24b7462ff29c",
   "metadata": {},
   "source": [
    "###### "
   ]
  },
  {
   "cell_type": "markdown",
   "id": "c2022f8b",
   "metadata": {},
   "source": []
  }
 ],
 "metadata": {
  "kernelspec": {
   "display_name": "Python 3",
   "language": "python",
   "name": "python3"
  },
  "language_info": {
   "codemirror_mode": {
    "name": "ipython",
    "version": 3
   },
   "file_extension": ".py",
   "mimetype": "text/x-python",
   "name": "python",
   "nbconvert_exporter": "python",
   "pygments_lexer": "ipython3",
   "version": "3.11.9"
  }
 },
 "nbformat": 4,
 "nbformat_minor": 5
}
