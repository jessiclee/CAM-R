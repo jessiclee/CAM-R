{
 "cells": [
  {
   "cell_type": "code",
   "execution_count": 1,
   "id": "063f7c1a-db78-4f72-9e47-1f0d11c61a2e",
   "metadata": {},
   "outputs": [],
   "source": [
    "import torch\n",
    "import torch.nn as nn\n",
    "from torchvision.models import vgg16, VGG16_Weights\n",
    "import td_load_data\n",
    "import td_run_model2\n",
    "import os\n",
    "import shutil\n",
    "from torchvision import transforms\n",
    "from PIL import Image"
   ]
  },
  {
   "cell_type": "code",
   "execution_count": 2,
   "id": "75a47281-bab2-4a5d-b712-be12eaf461de",
   "metadata": {},
   "outputs": [],
   "source": [
    "device = torch.device('cuda' if torch.cuda.is_available() else 'cpu')"
   ]
  },
  {
   "cell_type": "code",
   "execution_count": 3,
   "id": "c6bb1a0f-c109-41ca-9a1a-490ed65cede7",
   "metadata": {},
   "outputs": [],
   "source": [
    "num_classes = 3  # Adjust this to match the number of classes (e.g., high, medium, low)\n",
    "num_epochs = 23\n",
    "batch_size = 16\n",
    "learning_rate = 0.005"
   ]
  },
  {
   "cell_type": "code",
   "execution_count": 4,
   "id": "586cd6f1",
   "metadata": {},
   "outputs": [],
   "source": [
    "class VGG16MultiClassClassifier(nn.Module):\n",
    "    def __init__(self, num_classes):\n",
    "        super(VGG16MultiClassClassifier, self).__init__()\n",
    "        self.base_model = vgg16(weights=VGG16_Weights.IMAGENET1K_V1)\n",
    "        \n",
    "        in_features = self.base_model.classifier[6].in_features\n",
    "        \n",
    "        self.base_model.classifier[6] = nn.Sequential(\n",
    "            nn.Linear(in_features, num_classes)\n",
    "        )\n",
    "\n",
    "    def forward(self, x):\n",
    "        x = self.base_model(x)\n",
    "        return x"
   ]
  },
  {
   "cell_type": "code",
   "execution_count": null,
   "id": "794688ea-4590-4d4d-898a-9bb98927df0b",
   "metadata": {},
   "outputs": [],
   "source": [
    "if __name__ == \"__main__\":\n",
    "    # Hyperparameters\n",
    "\n",
    "    # Model initialization\n",
    "    model = VGG16MultiClassClassifier(num_classes=num_classes).to(device)\n",
    "    \n",
    "    # Loss and optimizer\n",
    "    criterion = nn.CrossEntropyLoss()\n",
    "    optimizer = torch.optim.SGD(model.parameters(), lr=learning_rate)\n",
    "\n",
    "    # Load data\n",
    "    train_loader, validation_loader, test_loader, classes = td_load_data.create_data(batch_size=batch_size)\n",
    "    \n",
    "    # Test the model's forward pass with a sample input\n",
    "    sample_input = torch.randn(1, 3, 224, 224).to(device)\n",
    "    print(\"Output shape:\", model(sample_input).shape)  # This should now be [1, num_classes]\n",
    "    \n",
    "    # Train and validate the model\n",
    "    td_run_model2.train(num_epochs, device, model, criterion, optimizer, train_loader, validation_loader, num_classes)\n",
    "    \n",
    "    \n",
    "    # Test the model\n",
    "    td_run_model2.test(device, model, test_loader, num_classes)\n"
   ]
  },
  {
   "cell_type": "code",
   "execution_count": null,
   "id": "ea11b622-cd7c-4f06-abdb-c65898103ffe",
   "metadata": {},
   "outputs": [],
   "source": [
    "# Define the model architecture with the same number of classes used during training\n",
    "model = VGG16MultiClassClassifier(num_classes=num_classes).to(device)\n",
    "\n",
    "# Load the state dict\n",
    "# state_dict = torch.load('weights/43.pth')\n",
    "# state_dict = torch.load('weights/42.pth')\n",
    "state_dict = torch.load('weights/43.pth', map_location=torch.device('cpu'))     # Running locally\n",
    "\n",
    "# Load the state dict into the model\n",
    "model.load_state_dict(state_dict)\n",
    "\n",
    "model.eval()  # Set the model to evaluation mode\n",
    "\n",
    "# Load the test data using the function in td_load_data.py\n",
    "_, _, test_loader, classes = td_load_data.create_data(batch_size=batch_size)\n",
    "\n",
    "# Evaluate the model on the test set\n",
    "td_run_model2.test_model_on_test_data(device, model, test_loader)"
   ]
  },
  {
   "cell_type": "code",
   "execution_count": null,
   "id": "a81ee25c",
   "metadata": {},
   "outputs": [],
   "source": [
    "#takes an avg of 3m 40s to run\n",
    "\n",
    "# Define the paths\n",
    "input_folder = \"C:/dDrive/CS480-fyp/traffic_density/8702\"  # Path to the folder with unsorted photos\n",
    "output_folder = \"sorted_photos/\"   # Base path to save sorted photos\n",
    "high_folder = os.path.join(output_folder, \"high\")\n",
    "medium_folder = os.path.join(output_folder, \"medium\")\n",
    "low_folder = os.path.join(output_folder, \"low\")\n",
    "\n",
    "# Create output directories if they don't exist\n",
    "os.makedirs(high_folder, exist_ok=True)\n",
    "os.makedirs(medium_folder, exist_ok=True)\n",
    "os.makedirs(low_folder, exist_ok=True)\n",
    "\n",
    "model = VGG16MultiClassClassifier(num_classes=num_classes).to(device)  # Change this based on your specific model\n",
    "\n",
    "model.load_state_dict(torch.load('weights/43.pth', map_location=torch.device('cpu')))  # Path to your weights\n",
    "\n",
    "model.to(device)\n",
    "model.eval()  # Set the model to evaluation mode\n",
    "\n",
    "# Define the transformation (resize, normalize, etc.)\n",
    "transform = transforms.Compose([\n",
    "    transforms.Resize((224, 224)),\n",
    "    transforms.ToTensor(),\n",
    "    transforms.Normalize(mean=[0.485, 0.456, 0.406], std=[0.229, 0.224, 0.225])\n",
    "])\n",
    "\n",
    "# Function to predict class for a single image\n",
    "def predict_image(image_path, model, device):\n",
    "    image = Image.open(image_path).convert('RGB')\n",
    "    image = transform(image).unsqueeze(0)  # Add batch dimension\n",
    "    image = image.to(device)\n",
    "    \n",
    "    with torch.no_grad():\n",
    "        output = model(image)\n",
    "        _, predicted = torch.max(output, 1)\n",
    "    \n",
    "    return predicted.item()  # Return the predicted class index (0, 1, 2 for high, medium, low)\n",
    "\n",
    "# Loop through each image in the input folder\n",
    "for img_name in os.listdir(input_folder):\n",
    "    img_path = os.path.join(input_folder, img_name)\n",
    "    if os.path.isfile(img_path):\n",
    "        predicted_class = predict_image(img_path, model, device)\n",
    "        \n",
    "        # Move image to the corresponding class folder\n",
    "        if predicted_class == 0:  # Assuming 0 is high, 1 is medium, 2 is low\n",
    "            shutil.move(img_path, os.path.join(high_folder, img_name))\n",
    "        elif predicted_class == 1:\n",
    "            shutil.move(img_path, os.path.join(low_folder, img_name))\n",
    "        elif predicted_class == 2:\n",
    "            shutil.move(img_path, os.path.join(medium_folder, img_name))\n",
    "        \n",
    "\n",
    "print(\"Photos have been successfully sorted into high, medium, and low folders.\")"
   ]
  },
  {
   "cell_type": "markdown",
   "id": "91e5e85d-9005-4631-8c6d-24b7462ff29c",
   "metadata": {},
   "source": [
    "###### "
   ]
  }
 ],
 "metadata": {
  "kernelspec": {
   "display_name": "Python 3",
   "language": "python",
   "name": "python3"
  },
  "language_info": {
   "codemirror_mode": {
    "name": "ipython",
    "version": 3
   },
   "file_extension": ".py",
   "mimetype": "text/x-python",
   "name": "python",
   "nbconvert_exporter": "python",
   "pygments_lexer": "ipython3",
   "version": "3.10.11"
  }
 },
 "nbformat": 4,
 "nbformat_minor": 5
}
